{
 "cells": [
  {
   "cell_type": "code",
   "execution_count": 6,
   "metadata": {},
   "outputs": [],
   "source": [
    "import tensorflow as tf\n",
    "import pandas as pd"
   ]
  },
  {
   "cell_type": "code",
   "execution_count": 7,
   "metadata": {},
   "outputs": [],
   "source": [
    "CSV_COLUMN_NAMES = ['SepalLength', 'SepalWidth', 'PetalLength', 'PetalWidth', 'Species']\n",
    "SPECIES = ['Setosa', 'Versicolor', 'Virginica']\n",
    "#lets define some connstant to help us later on"
   ]
  },
  {
   "cell_type": "code",
   "execution_count": 8,
   "metadata": {},
   "outputs": [
    {
     "name": "stdout",
     "output_type": "stream",
     "text": [
      "Downloading data from https://storage.googleapis.com/download.tensorflow.org/data/iris_training.csv\n",
      "16384/2194 [================================================================================================================================================================================================================================] - 0s 0us/step\n",
      "Downloading data from https://storage.googleapis.com/download.tensorflow.org/data/iris_test.csv\n",
      "16384/573 [=========================================================================================================================================================================================================================================================================================================================================================================================================================================================================================================================================================================================================================================================================================================================================================================================================================================================================================] - 0s 0us/step\n"
     ]
    }
   ],
   "source": [
    "train_path = tf.keras.utils.get_file(\n",
    "    \"iris_training.csv\", \"https://storage.googleapis.com/download.tensorflow.org/data/iris_training.csv\")\n",
    "test_path = tf.keras.utils.get_file(\n",
    "    \"iris_test.csv\", \"https://storage.googleapis.com/download.tensorflow.org/data/iris_test.csv\")\n",
    "\n",
    "train = pd.read_csv(train_path, names=CSV_COLUMN_NAMES, header=0)\n",
    "test = pd.read_csv(test_path, names=CSV_COLUMN_NAMES, header=0)\n",
    "#here we use keras (a module inside of TensorFlow) to grab our datasets and read them into a pandas dataframe."
   ]
  },
  {
   "cell_type": "code",
   "execution_count": 9,
   "metadata": {},
   "outputs": [
    {
     "data": {
      "text/html": [
       "<div>\n",
       "<style scoped>\n",
       "    .dataframe tbody tr th:only-of-type {\n",
       "        vertical-align: middle;\n",
       "    }\n",
       "\n",
       "    .dataframe tbody tr th {\n",
       "        vertical-align: top;\n",
       "    }\n",
       "\n",
       "    .dataframe thead th {\n",
       "        text-align: right;\n",
       "    }\n",
       "</style>\n",
       "<table border=\"1\" class=\"dataframe\">\n",
       "  <thead>\n",
       "    <tr style=\"text-align: right;\">\n",
       "      <th></th>\n",
       "      <th>SepalLength</th>\n",
       "      <th>SepalWidth</th>\n",
       "      <th>PetalLength</th>\n",
       "      <th>PetalWidth</th>\n",
       "      <th>Species</th>\n",
       "    </tr>\n",
       "  </thead>\n",
       "  <tbody>\n",
       "    <tr>\n",
       "      <th>0</th>\n",
       "      <td>6.4</td>\n",
       "      <td>2.8</td>\n",
       "      <td>5.6</td>\n",
       "      <td>2.2</td>\n",
       "      <td>2</td>\n",
       "    </tr>\n",
       "    <tr>\n",
       "      <th>1</th>\n",
       "      <td>5.0</td>\n",
       "      <td>2.3</td>\n",
       "      <td>3.3</td>\n",
       "      <td>1.0</td>\n",
       "      <td>1</td>\n",
       "    </tr>\n",
       "    <tr>\n",
       "      <th>2</th>\n",
       "      <td>4.9</td>\n",
       "      <td>2.5</td>\n",
       "      <td>4.5</td>\n",
       "      <td>1.7</td>\n",
       "      <td>2</td>\n",
       "    </tr>\n",
       "    <tr>\n",
       "      <th>3</th>\n",
       "      <td>4.9</td>\n",
       "      <td>3.1</td>\n",
       "      <td>1.5</td>\n",
       "      <td>0.1</td>\n",
       "      <td>0</td>\n",
       "    </tr>\n",
       "    <tr>\n",
       "      <th>4</th>\n",
       "      <td>5.7</td>\n",
       "      <td>3.8</td>\n",
       "      <td>1.7</td>\n",
       "      <td>0.3</td>\n",
       "      <td>0</td>\n",
       "    </tr>\n",
       "  </tbody>\n",
       "</table>\n",
       "</div>"
      ],
      "text/plain": [
       "   SepalLength  SepalWidth  PetalLength  PetalWidth  Species\n",
       "0          6.4         2.8          5.6         2.2        2\n",
       "1          5.0         2.3          3.3         1.0        1\n",
       "2          4.9         2.5          4.5         1.7        2\n",
       "3          4.9         3.1          1.5         0.1        0\n",
       "4          5.7         3.8          1.7         0.3        0"
      ]
     },
     "execution_count": 9,
     "metadata": {},
     "output_type": "execute_result"
    }
   ],
   "source": [
    "train.head()"
   ]
  },
  {
   "cell_type": "code",
   "execution_count": 10,
   "metadata": {},
   "outputs": [
    {
     "data": {
      "text/html": [
       "<div>\n",
       "<style scoped>\n",
       "    .dataframe tbody tr th:only-of-type {\n",
       "        vertical-align: middle;\n",
       "    }\n",
       "\n",
       "    .dataframe tbody tr th {\n",
       "        vertical-align: top;\n",
       "    }\n",
       "\n",
       "    .dataframe thead th {\n",
       "        text-align: right;\n",
       "    }\n",
       "</style>\n",
       "<table border=\"1\" class=\"dataframe\">\n",
       "  <thead>\n",
       "    <tr style=\"text-align: right;\">\n",
       "      <th></th>\n",
       "      <th>SepalLength</th>\n",
       "      <th>SepalWidth</th>\n",
       "      <th>PetalLength</th>\n",
       "      <th>PetalWidth</th>\n",
       "    </tr>\n",
       "  </thead>\n",
       "  <tbody>\n",
       "    <tr>\n",
       "      <th>0</th>\n",
       "      <td>6.4</td>\n",
       "      <td>2.8</td>\n",
       "      <td>5.6</td>\n",
       "      <td>2.2</td>\n",
       "    </tr>\n",
       "    <tr>\n",
       "      <th>1</th>\n",
       "      <td>5.0</td>\n",
       "      <td>2.3</td>\n",
       "      <td>3.3</td>\n",
       "      <td>1.0</td>\n",
       "    </tr>\n",
       "    <tr>\n",
       "      <th>2</th>\n",
       "      <td>4.9</td>\n",
       "      <td>2.5</td>\n",
       "      <td>4.5</td>\n",
       "      <td>1.7</td>\n",
       "    </tr>\n",
       "    <tr>\n",
       "      <th>3</th>\n",
       "      <td>4.9</td>\n",
       "      <td>3.1</td>\n",
       "      <td>1.5</td>\n",
       "      <td>0.1</td>\n",
       "    </tr>\n",
       "    <tr>\n",
       "      <th>4</th>\n",
       "      <td>5.7</td>\n",
       "      <td>3.8</td>\n",
       "      <td>1.7</td>\n",
       "      <td>0.3</td>\n",
       "    </tr>\n",
       "  </tbody>\n",
       "</table>\n",
       "</div>"
      ],
      "text/plain": [
       "   SepalLength  SepalWidth  PetalLength  PetalWidth\n",
       "0          6.4         2.8          5.6         2.2\n",
       "1          5.0         2.3          3.3         1.0\n",
       "2          4.9         2.5          4.5         1.7\n",
       "3          4.9         3.1          1.5         0.1\n",
       "4          5.7         3.8          1.7         0.3"
      ]
     },
     "execution_count": 10,
     "metadata": {},
     "output_type": "execute_result"
    }
   ],
   "source": [
    "train_y = train.pop('Species')\n",
    "test_y = test.pop('Species')\n",
    "\n",
    "# The label column has now been removed from the features.\n",
    "train.head()"
   ]
  },
  {
   "cell_type": "code",
   "execution_count": 11,
   "metadata": {},
   "outputs": [
    {
     "data": {
      "text/plain": [
       "(120, 4)"
      ]
     },
     "execution_count": 11,
     "metadata": {},
     "output_type": "execute_result"
    }
   ],
   "source": [
    "train.shape"
   ]
  },
  {
   "cell_type": "code",
   "execution_count": 12,
   "metadata": {},
   "outputs": [
    {
     "data": {
      "text/plain": [
       "0    2\n",
       "1    1\n",
       "2    2\n",
       "3    0\n",
       "4    0\n",
       "Name: Species, dtype: int64"
      ]
     },
     "execution_count": 12,
     "metadata": {},
     "output_type": "execute_result"
    }
   ],
   "source": [
    "train_y.head()"
   ]
  },
  {
   "cell_type": "code",
   "execution_count": 13,
   "metadata": {},
   "outputs": [],
   "source": [
    "##Create input functions\n",
    "def input_fn(features, labels, training=True, batch_size=256):\n",
    "    \"\"\"An input function for training or evaluating\"\"\"\n",
    "    # Convert the inputs to a Dataset.\n",
    "    dataset = tf.data.Dataset.from_tensor_slices((dict(features), labels))\n",
    "\n",
    "    # Shuffle and repeat if you are in training mode.\n",
    "    if training:\n",
    "        dataset = dataset.shuffle(1000).repeat()\n",
    "\n",
    "    return dataset.batch(batch_size)"
   ]
  },
  {
   "cell_type": "code",
   "execution_count": 14,
   "metadata": {},
   "outputs": [
    {
     "name": "stdout",
     "output_type": "stream",
     "text": [
      "[NumericColumn(key='SepalLength', shape=(1,), default_value=None, dtype=tf.float32, normalizer_fn=None), NumericColumn(key='SepalWidth', shape=(1,), default_value=None, dtype=tf.float32, normalizer_fn=None), NumericColumn(key='PetalLength', shape=(1,), default_value=None, dtype=tf.float32, normalizer_fn=None), NumericColumn(key='PetalWidth', shape=(1,), default_value=None, dtype=tf.float32, normalizer_fn=None)]\n"
     ]
    }
   ],
   "source": [
    "#feature columns\n",
    "# Feature columns describe how to use the input.\n",
    "my_feature_columns = []\n",
    "for key in train.keys():\n",
    "    my_feature_columns.append(tf.feature_column.numeric_column(key=key))\n",
    "print(my_feature_columns)"
   ]
  },
  {
   "cell_type": "code",
   "execution_count": 15,
   "metadata": {},
   "outputs": [
    {
     "name": "stdout",
     "output_type": "stream",
     "text": [
      "INFO:tensorflow:Using default config.\n",
      "WARNING:tensorflow:Using temporary folder as model directory: /var/folders/y2/n4q_rwcd73x83326wd6szdh80000gn/T/tmp66r0998w\n",
      "INFO:tensorflow:Using config: {'_model_dir': '/var/folders/y2/n4q_rwcd73x83326wd6szdh80000gn/T/tmp66r0998w', '_tf_random_seed': None, '_save_summary_steps': 100, '_save_checkpoints_steps': None, '_save_checkpoints_secs': 600, '_session_config': allow_soft_placement: true\n",
      "graph_options {\n",
      "  rewrite_options {\n",
      "    meta_optimizer_iterations: ONE\n",
      "  }\n",
      "}\n",
      ", '_keep_checkpoint_max': 5, '_keep_checkpoint_every_n_hours': 10000, '_log_step_count_steps': 100, '_train_distribute': None, '_device_fn': None, '_protocol': None, '_eval_distribute': None, '_experimental_distribute': None, '_experimental_max_worker_delay_secs': None, '_session_creation_timeout_secs': 7200, '_checkpoint_save_graph_def': True, '_service': None, '_cluster_spec': ClusterSpec({}), '_task_type': 'worker', '_task_id': 0, '_global_id_in_cluster': 0, '_master': '', '_evaluation_master': '', '_is_chief': True, '_num_ps_replicas': 0, '_num_worker_replicas': 1}\n"
     ]
    }
   ],
   "source": [
    "# Build a DNN with 2 hidden layers with 30 and 10 hidden nodes each.\n",
    "classifier = tf.estimator.DNNClassifier(\n",
    "    feature_columns=my_feature_columns,\n",
    "    # Two hidden layers of 30 and 10 nodes respectively.\n",
    "    hidden_units=[30, 10],\n",
    "    # The model must choose between 3 classes.\n",
    "    n_classes=3)"
   ]
  },
  {
   "cell_type": "code",
   "execution_count": 16,
   "metadata": {},
   "outputs": [
    {
     "name": "stdout",
     "output_type": "stream",
     "text": [
      "WARNING:tensorflow:From /opt/anaconda3/lib/python3.8/site-packages/tensorflow/python/training/training_util.py:235: Variable.initialized_value (from tensorflow.python.ops.variables) is deprecated and will be removed in a future version.\n",
      "Instructions for updating:\n",
      "Use Variable.read_value. Variables in 2.X are initialized automatically both in eager and graph (inside tf.defun) contexts.\n",
      "INFO:tensorflow:Calling model_fn.\n",
      "WARNING:tensorflow:From /opt/anaconda3/lib/python3.8/site-packages/keras/optimizer_v2/adagrad.py:83: calling Constant.__init__ (from tensorflow.python.ops.init_ops) with dtype is deprecated and will be removed in a future version.\n",
      "Instructions for updating:\n",
      "Call initializer instance with the dtype argument instead of passing it to the constructor\n",
      "INFO:tensorflow:Done calling model_fn.\n",
      "INFO:tensorflow:Create CheckpointSaverHook.\n",
      "INFO:tensorflow:Graph was finalized.\n",
      "INFO:tensorflow:Running local_init_op.\n",
      "INFO:tensorflow:Done running local_init_op.\n",
      "INFO:tensorflow:Calling checkpoint listeners before saving checkpoint 0...\n",
      "INFO:tensorflow:Saving checkpoints for 0 into /var/folders/y2/n4q_rwcd73x83326wd6szdh80000gn/T/tmp66r0998w/model.ckpt.\n",
      "INFO:tensorflow:Calling checkpoint listeners after saving checkpoint 0...\n",
      "INFO:tensorflow:loss = 1.7791779, step = 0\n",
      "INFO:tensorflow:global_step/sec: 261.101\n",
      "INFO:tensorflow:loss = 1.0961978, step = 100 (0.384 sec)\n",
      "INFO:tensorflow:global_step/sec: 328.901\n",
      "INFO:tensorflow:loss = 1.029259, step = 200 (0.304 sec)\n",
      "INFO:tensorflow:global_step/sec: 321.711\n",
      "INFO:tensorflow:loss = 0.99366236, step = 300 (0.310 sec)\n",
      "INFO:tensorflow:global_step/sec: 339.19\n",
      "INFO:tensorflow:loss = 0.98239934, step = 400 (0.297 sec)\n",
      "INFO:tensorflow:global_step/sec: 361.184\n",
      "INFO:tensorflow:loss = 0.9724398, step = 500 (0.275 sec)\n",
      "INFO:tensorflow:global_step/sec: 373.075\n",
      "INFO:tensorflow:loss = 0.946544, step = 600 (0.268 sec)\n",
      "INFO:tensorflow:global_step/sec: 398.976\n",
      "INFO:tensorflow:loss = 0.94182, step = 700 (0.251 sec)\n",
      "INFO:tensorflow:global_step/sec: 344.488\n",
      "INFO:tensorflow:loss = 0.92354655, step = 800 (0.291 sec)\n",
      "INFO:tensorflow:global_step/sec: 338.298\n",
      "INFO:tensorflow:loss = 0.90666074, step = 900 (0.295 sec)\n",
      "INFO:tensorflow:global_step/sec: 391.801\n",
      "INFO:tensorflow:loss = 0.8978112, step = 1000 (0.255 sec)\n",
      "INFO:tensorflow:global_step/sec: 376.189\n",
      "INFO:tensorflow:loss = 0.88122666, step = 1100 (0.267 sec)\n",
      "INFO:tensorflow:global_step/sec: 357.577\n",
      "INFO:tensorflow:loss = 0.8744533, step = 1200 (0.278 sec)\n",
      "INFO:tensorflow:global_step/sec: 374.709\n",
      "INFO:tensorflow:loss = 0.85952014, step = 1300 (0.267 sec)\n",
      "INFO:tensorflow:global_step/sec: 386.069\n",
      "INFO:tensorflow:loss = 0.8660807, step = 1400 (0.259 sec)\n",
      "INFO:tensorflow:global_step/sec: 354.422\n",
      "INFO:tensorflow:loss = 0.8585518, step = 1500 (0.282 sec)\n",
      "INFO:tensorflow:global_step/sec: 398.118\n",
      "INFO:tensorflow:loss = 0.8584366, step = 1600 (0.252 sec)\n",
      "INFO:tensorflow:global_step/sec: 407.802\n",
      "INFO:tensorflow:loss = 0.856036, step = 1700 (0.245 sec)\n",
      "INFO:tensorflow:global_step/sec: 387.946\n",
      "INFO:tensorflow:loss = 0.84005797, step = 1800 (0.257 sec)\n",
      "INFO:tensorflow:global_step/sec: 340.205\n",
      "INFO:tensorflow:loss = 0.8364657, step = 1900 (0.295 sec)\n",
      "INFO:tensorflow:global_step/sec: 343.691\n",
      "INFO:tensorflow:loss = 0.82120526, step = 2000 (0.290 sec)\n",
      "INFO:tensorflow:global_step/sec: 357.66\n",
      "INFO:tensorflow:loss = 0.82769406, step = 2100 (0.280 sec)\n",
      "INFO:tensorflow:global_step/sec: 416.472\n",
      "INFO:tensorflow:loss = 0.83148086, step = 2200 (0.240 sec)\n",
      "INFO:tensorflow:global_step/sec: 417.509\n",
      "INFO:tensorflow:loss = 0.8184398, step = 2300 (0.240 sec)\n",
      "INFO:tensorflow:global_step/sec: 389.678\n",
      "INFO:tensorflow:loss = 0.81295395, step = 2400 (0.257 sec)\n",
      "INFO:tensorflow:global_step/sec: 373.633\n",
      "INFO:tensorflow:loss = 0.80705404, step = 2500 (0.267 sec)\n",
      "INFO:tensorflow:global_step/sec: 408.479\n",
      "INFO:tensorflow:loss = 0.8011177, step = 2600 (0.245 sec)\n",
      "INFO:tensorflow:global_step/sec: 414.206\n",
      "INFO:tensorflow:loss = 0.8112474, step = 2700 (0.242 sec)\n",
      "INFO:tensorflow:global_step/sec: 421.745\n",
      "INFO:tensorflow:loss = 0.8032036, step = 2800 (0.237 sec)\n",
      "INFO:tensorflow:global_step/sec: 411.868\n",
      "INFO:tensorflow:loss = 0.79408956, step = 2900 (0.243 sec)\n",
      "INFO:tensorflow:global_step/sec: 402.656\n",
      "INFO:tensorflow:loss = 0.7937374, step = 3000 (0.249 sec)\n",
      "INFO:tensorflow:global_step/sec: 412.821\n",
      "INFO:tensorflow:loss = 0.7952663, step = 3100 (0.242 sec)\n",
      "INFO:tensorflow:global_step/sec: 416.859\n",
      "INFO:tensorflow:loss = 0.79444534, step = 3200 (0.240 sec)\n",
      "INFO:tensorflow:global_step/sec: 406.774\n",
      "INFO:tensorflow:loss = 0.7811767, step = 3300 (0.246 sec)\n",
      "INFO:tensorflow:global_step/sec: 400.628\n",
      "INFO:tensorflow:loss = 0.79465413, step = 3400 (0.249 sec)\n",
      "INFO:tensorflow:global_step/sec: 419.822\n",
      "INFO:tensorflow:loss = 0.7770392, step = 3500 (0.239 sec)\n",
      "INFO:tensorflow:global_step/sec: 421.118\n",
      "INFO:tensorflow:loss = 0.7665201, step = 3600 (0.237 sec)\n",
      "INFO:tensorflow:global_step/sec: 415.535\n",
      "INFO:tensorflow:loss = 0.75980806, step = 3700 (0.241 sec)\n",
      "INFO:tensorflow:global_step/sec: 420.21\n",
      "INFO:tensorflow:loss = 0.7585038, step = 3800 (0.238 sec)\n",
      "INFO:tensorflow:global_step/sec: 354.093\n",
      "INFO:tensorflow:loss = 0.76667, step = 3900 (0.283 sec)\n",
      "INFO:tensorflow:global_step/sec: 386.345\n",
      "INFO:tensorflow:loss = 0.74696326, step = 4000 (0.261 sec)\n",
      "INFO:tensorflow:global_step/sec: 394.674\n",
      "INFO:tensorflow:loss = 0.74945295, step = 4100 (0.251 sec)\n",
      "INFO:tensorflow:global_step/sec: 322.828\n",
      "INFO:tensorflow:loss = 0.76271075, step = 4200 (0.312 sec)\n",
      "INFO:tensorflow:global_step/sec: 354.592\n",
      "INFO:tensorflow:loss = 0.74523824, step = 4300 (0.280 sec)\n",
      "INFO:tensorflow:global_step/sec: 348.476\n",
      "INFO:tensorflow:loss = 0.7443557, step = 4400 (0.287 sec)\n",
      "INFO:tensorflow:global_step/sec: 381.273\n",
      "INFO:tensorflow:loss = 0.749023, step = 4500 (0.262 sec)\n",
      "INFO:tensorflow:global_step/sec: 315.835\n",
      "INFO:tensorflow:loss = 0.733654, step = 4600 (0.317 sec)\n",
      "INFO:tensorflow:global_step/sec: 317.002\n",
      "INFO:tensorflow:loss = 0.74308264, step = 4700 (0.322 sec)\n",
      "INFO:tensorflow:global_step/sec: 260.071\n",
      "INFO:tensorflow:loss = 0.7324227, step = 4800 (0.378 sec)\n",
      "INFO:tensorflow:global_step/sec: 387.74\n",
      "INFO:tensorflow:loss = 0.7249353, step = 4900 (0.258 sec)\n",
      "INFO:tensorflow:Calling checkpoint listeners before saving checkpoint 5000...\n",
      "INFO:tensorflow:Saving checkpoints for 5000 into /var/folders/y2/n4q_rwcd73x83326wd6szdh80000gn/T/tmp66r0998w/model.ckpt.\n",
      "INFO:tensorflow:Calling checkpoint listeners after saving checkpoint 5000...\n",
      "INFO:tensorflow:Loss for final step: 0.72123504.\n"
     ]
    },
    {
     "data": {
      "text/plain": [
       "<tensorflow_estimator.python.estimator.canned.dnn.DNNClassifierV2 at 0x7f93b5374970>"
      ]
     },
     "execution_count": 16,
     "metadata": {},
     "output_type": "execute_result"
    }
   ],
   "source": [
    "# Train the Model.\n",
    "classifier.train(\n",
    "    input_fn=lambda: input_fn(train, train_y, training=True),\n",
    "    steps=5000)"
   ]
  },
  {
   "cell_type": "code",
   "execution_count": 19,
   "metadata": {},
   "outputs": [
    {
     "name": "stdout",
     "output_type": "stream",
     "text": [
      "INFO:tensorflow:Calling model_fn.\n",
      "INFO:tensorflow:Done calling model_fn.\n",
      "INFO:tensorflow:Starting evaluation at 2021-09-25T15:10:07\n",
      "INFO:tensorflow:Graph was finalized.\n",
      "INFO:tensorflow:Restoring parameters from /var/folders/y2/n4q_rwcd73x83326wd6szdh80000gn/T/tmp66r0998w/model.ckpt-5000\n",
      "INFO:tensorflow:Running local_init_op.\n",
      "INFO:tensorflow:Done running local_init_op.\n",
      "INFO:tensorflow:Inference Time : 0.29797s\n",
      "INFO:tensorflow:Finished evaluation at 2021-09-25-15:10:07\n",
      "INFO:tensorflow:Saving dict for global step 5000: accuracy = 0.56666666, average_loss = 0.76762986, global_step = 5000, loss = 0.76762986\n",
      "INFO:tensorflow:Saving 'checkpoint_path' summary for global step 5000: /var/folders/y2/n4q_rwcd73x83326wd6szdh80000gn/T/tmp66r0998w/model.ckpt-5000\n",
      "\n",
      "Test set accuracy: 0.567\n",
      "\n"
     ]
    }
   ],
   "source": [
    "eval_result = classifier.evaluate(\n",
    "    input_fn=lambda: input_fn(test, test_y, training=False))\n",
    "\n",
    "print('\\nTest set accuracy: {accuracy:0.3f}\\n'.format(**eval_result))"
   ]
  },
  {
   "cell_type": "code",
   "execution_count": 23,
   "metadata": {},
   "outputs": [
    {
     "name": "stdout",
     "output_type": "stream",
     "text": [
      "Please type numeric values as prompted.\n"
     ]
    },
    {
     "name": "stdin",
     "output_type": "stream",
     "text": [
      "SepalLength:  1.2\n",
      "SepalWidth:  2.2\n",
      "PetalLength:  3.2\n",
      "PetalWidth:  2.1\n"
     ]
    },
    {
     "name": "stdout",
     "output_type": "stream",
     "text": [
      "INFO:tensorflow:Calling model_fn.\n",
      "INFO:tensorflow:Done calling model_fn.\n",
      "INFO:tensorflow:Graph was finalized.\n",
      "INFO:tensorflow:Restoring parameters from /var/folders/y2/n4q_rwcd73x83326wd6szdh80000gn/T/tmp66r0998w/model.ckpt-5000\n",
      "INFO:tensorflow:Running local_init_op.\n",
      "INFO:tensorflow:Done running local_init_op.\n",
      "Prediction is \"Virginica\" (47.4%)\n"
     ]
    }
   ],
   "source": [
    "def input_fn(features, batch_size=256):\n",
    "    \"\"\"An input function for prediction.\"\"\"\n",
    "    # Convert the inputs to a Dataset without labels.\n",
    "    return tf.data.Dataset.from_tensor_slices(dict(features)).batch(batch_size)\n",
    "\n",
    "features = ['SepalLength', 'SepalWidth', 'PetalLength', 'PetalWidth']\n",
    "predict = {}\n",
    "\n",
    "print(\"Please type numeric values as prompted.\")\n",
    "for feature in features:\n",
    "    valid = True\n",
    "    while valid:\n",
    "        val=input(feature + \": \")\n",
    "        if not val.isdigit(): valid = False\n",
    "            \n",
    "        predict[feature] = [float(val)]\n",
    "            \n",
    "predictions = classifier.predict(input_fn=lambda: input_fn(predict))\n",
    "for pred_dict in predictions:\n",
    "    class_id = pred_dict['class_ids'][0]\n",
    "    probability = pred_dict['probabilities'][class_id]\n",
    "\n",
    "    print('Prediction is \"{}\" ({:.1f}%)'.format(\n",
    "        SPECIES[class_id], 100 * probability))"
   ]
  },
  {
   "cell_type": "code",
   "execution_count": null,
   "metadata": {},
   "outputs": [],
   "source": []
  }
 ],
 "metadata": {
  "kernelspec": {
   "display_name": "Python 3",
   "language": "python",
   "name": "python3"
  },
  "language_info": {
   "codemirror_mode": {
    "name": "ipython",
    "version": 3
   },
   "file_extension": ".py",
   "mimetype": "text/x-python",
   "name": "python",
   "nbconvert_exporter": "python",
   "pygments_lexer": "ipython3",
   "version": "3.8.5"
  }
 },
 "nbformat": 4,
 "nbformat_minor": 4
}
